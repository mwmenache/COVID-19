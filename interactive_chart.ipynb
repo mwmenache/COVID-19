{
 "cells": [
  {
   "cell_type": "markdown",
   "metadata": {},
   "source": [
    "# Import and display options"
   ]
  },
  {
   "cell_type": "code",
   "execution_count": 94,
   "metadata": {},
   "outputs": [],
   "source": [
    "import pandas as pd\n",
    "import numpy as np\n",
    "from pivottablejs import pivot_ui\n",
    "# Pandas options\n",
    "pd.options.display.max_rows = 999\n",
    "pd.set_option('expand_frame_repr', False)\n",
    "# jupyter options\n",
    "from IPython.core.interactiveshell import InteractiveShell\n",
    "InteractiveShell.ast_node_interactivity = \"all\"\n",
    "%matplotlib inline"
   ]
  },
  {
   "cell_type": "markdown",
   "metadata": {},
   "source": [
    "# Define functions\n",
    "- string_to_date tunrs a string column to datetime in a Panadas DF\n",
    "- read_and_stack reads the data stack it for furher manipulations"
   ]
  },
  {
   "cell_type": "code",
   "execution_count": 95,
   "metadata": {},
   "outputs": [
    {
     "data": {
      "text/plain": [
       "Province/State  Country/Region  Date      \n",
       "NaN             Afghanistan     2020-01-22    0\n",
       "                                2020-01-23    0\n",
       "                                2020-01-24    0\n",
       "                                2020-01-25    0\n",
       "                                2020-01-26    0\n",
       "Name: Confirmed, dtype: int64"
      ]
     },
     "execution_count": 95,
     "metadata": {},
     "output_type": "execute_result"
    }
   ],
   "source": [
    "def _string_to_date(s, format):\n",
    "    \"\"\"\n",
    "    This is an extremely fast approach to datetime parsing.\n",
    "    For large data, the same dates are often repeated. Rather than\n",
    "    re-parse these, we store all unique dates, parse them, and\n",
    "    use a lookup to convert all dates.\n",
    "    \"\"\"\n",
    "    dates = {date:pd.to_datetime(date, format = format) for date in s.unique()}\n",
    "    return s.map(dates)\n",
    "\n",
    "def _read_and_stack(file):\n",
    "    \"\"\" Reads the data and format it in long format with .stack() with countries as index \n",
    "\n",
    "    Parameters\n",
    "    ----------\n",
    "    file: String\n",
    "        the file to import, from the COVID-19 repository on github:\n",
    "        https://github.com/CSSEGISandData/COVID-19.git\n",
    "        \n",
    "    Returns\n",
    "    -------\n",
    "    - df:\n",
    "        pandas dataframe, stacked, with coutries as index\n",
    "    \n",
    "    See Also\n",
    "    --------\n",
    "\n",
    "    Examples\n",
    "    --------\n",
    "    confirmed = _read_and_stack(\"Confirmed\")\n",
    "\n",
    "    \"\"\"\n",
    "    \n",
    "    df = (pd\n",
    "          .read_csv(rf\"csse_covid_19_data\\csse_covid_19_time_series\\time_series_covid19_{file}_global.csv\")\n",
    "          .reset_index()\n",
    "          .drop([\"index\", \"Lat\", \"Long\"], axis=1)\n",
    "          .set_index(['Province/State', 'Country/Region'])\n",
    "          .stack()\n",
    "          .reset_index()\n",
    "         )\n",
    "    df[\"Date\"] = _string_to_date(df[\"level_2\"], \"%m/%d/%y\")\n",
    "    df = (df\n",
    "          .set_index(['Province/State', 'Country/Region', 'Date'])\n",
    "          .drop(\"level_2\", axis=1)\n",
    "         )\n",
    "    df.columns = [file]\n",
    "    \n",
    "    return df[file]\n",
    "\n",
    "df = _read_and_stack(\"Confirmed\")\n",
    "# df.columns\n",
    "df.head()"
   ]
  },
  {
   "cell_type": "markdown",
   "metadata": {},
   "source": [
    "# Covid-19 progression dashboard\n",
    "Per country, province and date: confirmed, death, new confirmed and new deaths"
   ]
  },
  {
   "cell_type": "markdown",
   "metadata": {},
   "source": [
    "## Prepare the data"
   ]
  },
  {
   "cell_type": "code",
   "execution_count": 96,
   "metadata": {},
   "outputs": [],
   "source": [
    "# Datframe with all the data\n",
    "files=[\"Confirmed\", \"Deaths\"]\n",
    "df = pd.DataFrame()\n",
    "for file in files:\n",
    "    df[file] = _read_and_stack(file)\n",
    "\n",
    "# cleaning up the data\n",
    "df = df.reset_index()\n",
    "# df.loc[df['Province/State'].isnull(),'Province/State'] = df['Country/Region']\n",
    "df['Province/State'] = df['Province/State'].fillna(df['Country/Region'])\n",
    "\n",
    "# Add the mortality rate, number of new confirmed and number of new deaths\n",
    "df[\"rate\"] = (df.Deaths / df.Confirmed).fillna(0)\n",
    "df[\"New Confirmed\"] = df.groupby(['Country/Region', \"Province/State\"]).Confirmed.diff().fillna(0)\n",
    "df[\"New Deaths\"] = df.groupby(['Country/Region', \"Province/State\"]).Deaths.diff().fillna(0)\n",
    "# df.loc[df[\"Country/Region\"] == \"China\"]\n",
    "# df.head(20)"
   ]
  },
  {
   "cell_type": "markdown",
   "metadata": {},
   "source": [
    "## Export the dashboard with pivottablejs.pivot_ui"
   ]
  },
  {
   "cell_type": "code",
   "execution_count": 97,
   "metadata": {},
   "outputs": [
    {
     "data": {
      "text/html": [
       "\n",
       "        <iframe\n",
       "            width=\"100%\"\n",
       "            height=\"500\"\n",
       "            src=\"time_series_pivotchart.html\"\n",
       "            frameborder=\"0\"\n",
       "            allowfullscreen\n",
       "        ></iframe>\n",
       "        "
      ],
      "text/plain": [
       "<IPython.lib.display.IFrame at 0x1cd56989cc0>"
      ]
     },
     "execution_count": 97,
     "metadata": {},
     "output_type": "execute_result"
    }
   ],
   "source": [
    "# Export the interactive table / chart\n",
    "pivot_ui(df,outfile_path=\"time_series_pivotchart.html\")"
   ]
  },
  {
   "cell_type": "markdown",
   "metadata": {},
   "source": [
    "# Rescaled dashboard to compare progression per country"
   ]
  },
  {
   "cell_type": "markdown",
   "metadata": {},
   "source": [
    "## Rescale to log scale and start when the number of confirmed cases reaches 100"
   ]
  },
  {
   "cell_type": "code",
   "execution_count": 98,
   "metadata": {},
   "outputs": [
    {
     "name": "stderr",
     "output_type": "stream",
     "text": [
      "C:\\Users\\mmenache\\AppData\\Local\\Continuum\\anaconda3\\lib\\site-packages\\ipykernel_launcher.py:4: RuntimeWarning: divide by zero encountered in log\n",
      "  after removing the cwd from sys.path.\n"
     ]
    }
   ],
   "source": [
    "df2 = df.groupby([\"Country/Region\", \"Date\"]).sum()\n",
    "df2 = df2.loc[df2.Confirmed >= 30]\n",
    "df2[\"log_Confirmed\"] = np.log(df2[\"Confirmed\"])\n",
    "df2[\"log_Deaths\"] = np.log(df2[\"Deaths\"])\n",
    "df2 = df2.replace([np.inf, -np.inf], 0)\n",
    "df2 = df2.reset_index()\n",
    "df2[\"Date\"] = df2.groupby([\"Country/Region\"]).cumcount()\n",
    "df2 = (df2\n",
    "       .set_index([\"Country/Region\", \"Date\"])\n",
    "       .loc[:, [\"Confirmed\", \"log_Confirmed\", \"Deaths\", \"log_Deaths\"]]\n",
    "      )\n",
    "# df2.loc[[\"France\", \"China\"]]\n",
    "# df2.loc[\"Turkey\"]"
   ]
  },
  {
   "cell_type": "markdown",
   "metadata": {},
   "source": [
    "## Export the dashboard with pivottablejs.puivot_ii"
   ]
  },
  {
   "cell_type": "code",
   "execution_count": 99,
   "metadata": {},
   "outputs": [
    {
     "data": {
      "text/html": [
       "\n",
       "        <iframe\n",
       "            width=\"100%\"\n",
       "            height=\"500\"\n",
       "            src=\"country_comparison_rescaled.html\"\n",
       "            frameborder=\"0\"\n",
       "            allowfullscreen\n",
       "        ></iframe>\n",
       "        "
      ],
      "text/plain": [
       "<IPython.lib.display.IFrame at 0x1cd552bcbe0>"
      ]
     },
     "execution_count": 99,
     "metadata": {},
     "output_type": "execute_result"
    }
   ],
   "source": [
    "# Export the interactive table / chart\n",
    "pivot_ui(df2,outfile_path=\"country_comparison_rescaled.html\")"
   ]
  },
  {
   "cell_type": "code",
   "execution_count": null,
   "metadata": {},
   "outputs": [],
   "source": []
  }
 ],
 "metadata": {
  "kernelspec": {
   "display_name": "Python 3",
   "language": "python",
   "name": "python3"
  },
  "language_info": {
   "codemirror_mode": {
    "name": "ipython",
    "version": 3
   },
   "file_extension": ".py",
   "mimetype": "text/x-python",
   "name": "python",
   "nbconvert_exporter": "python",
   "pygments_lexer": "ipython3",
   "version": "3.7.1"
  },
  "toc-autonumbering": true
 },
 "nbformat": 4,
 "nbformat_minor": 2
}
