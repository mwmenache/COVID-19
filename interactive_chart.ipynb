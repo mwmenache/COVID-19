{
 "cells": [
  {
   "cell_type": "markdown",
   "metadata": {},
   "source": [
    "# Import and display options"
   ]
  },
  {
   "cell_type": "code",
   "execution_count": 52,
   "metadata": {},
   "outputs": [],
   "source": [
    "import pandas as pd\n",
    "import numpy as np\n",
    "from pivottablejs import pivot_ui\n",
    "# Pandas options\n",
    "pd.options.display.max_rows = 999\n",
    "pd.set_option('expand_frame_repr', False)\n",
    "# jupyter options\n",
    "from IPython.core.interactiveshell import InteractiveShell\n",
    "InteractiveShell.ast_node_interactivity = \"all\"\n",
    "%matplotlib inline"
   ]
  },
  {
   "cell_type": "markdown",
   "metadata": {},
   "source": [
    "# Define functions\n",
    "- string_to_date tunrs a string column to datetime in a Panadas DF\n",
    "- read_and_stack reads the data stack it for furher manipulations"
   ]
  },
  {
   "cell_type": "code",
   "execution_count": 53,
   "metadata": {},
   "outputs": [
    {
     "data": {
      "text/plain": [
       "Province/State  Country/Region  Date      \n",
       "NaN             Afghanistan     2020-01-22    0\n",
       "                                2020-01-23    0\n",
       "                                2020-01-24    0\n",
       "                                2020-01-25    0\n",
       "                                2020-01-26    0\n",
       "Name: Confirmed, dtype: int64"
      ]
     },
     "execution_count": 53,
     "metadata": {},
     "output_type": "execute_result"
    }
   ],
   "source": [
    "def _string_to_date(s, format):\n",
    "    \"\"\"\n",
    "    This is an extremely fast approach to datetime parsing.\n",
    "    For large data, the same dates are often repeated. Rather than\n",
    "    re-parse these, we store all unique dates, parse them, and\n",
    "    use a lookup to convert all dates.\n",
    "    \"\"\"\n",
    "    dates = {date:pd.to_datetime(date, format = format) for date in s.unique()}\n",
    "    return s.map(dates)\n",
    "\n",
    "def _read_and_stack(file):\n",
    "    \"\"\" Reads the data and format it in long format with .stack() with countries as index \n",
    "\n",
    "    Parameters\n",
    "    ----------\n",
    "    file: String\n",
    "        the file to import, from the COVID-19 repository on github:\n",
    "        https://github.com/CSSEGISandData/COVID-19.git\n",
    "        \n",
    "    Returns\n",
    "    -------\n",
    "    - df:\n",
    "        pandas dataframe, stacked, with coutries as index\n",
    "    \n",
    "    See Also\n",
    "    --------\n",
    "\n",
    "    Examples\n",
    "    --------\n",
    "    confirmed = _read_and_stack(\"Confirmed\")\n",
    "\n",
    "    \"\"\"\n",
    "    \n",
    "    df = (pd\n",
    "          .read_csv(rf\"csse_covid_19_data\\csse_covid_19_time_series\\time_series_covid19_{file}_global.csv\")\n",
    "          .reset_index()\n",
    "          .drop([\"index\", \"Lat\", \"Long\"], axis=1)\n",
    "          .set_index(['Province/State', 'Country/Region'])\n",
    "          .stack()\n",
    "          .reset_index()\n",
    "         )\n",
    "    df[\"Date\"] = _string_to_date(df[\"level_2\"], \"%m/%d/%y\")\n",
    "    df = (df\n",
    "          .set_index(['Province/State', 'Country/Region', 'Date'])\n",
    "          .drop(\"level_2\", axis=1)\n",
    "         )\n",
    "    df.columns = [file]\n",
    "    \n",
    "    return df[file]\n",
    "\n",
    "df = _read_and_stack(\"Confirmed\")\n",
    "# df.columns\n",
    "df.head()"
   ]
  },
  {
   "cell_type": "markdown",
   "metadata": {},
   "source": [
    "# Covid-19 progression dashboard\n",
    "Per country, province and date: confirmed, death, new confirmed and new deaths"
   ]
  },
  {
   "cell_type": "markdown",
   "metadata": {},
   "source": [
    "## Prepare the data"
   ]
  },
  {
   "cell_type": "code",
   "execution_count": 54,
   "metadata": {},
   "outputs": [],
   "source": [
    "# Datframe with all the data\n",
    "files=[\"Confirmed\", \"Deaths\"]\n",
    "df = pd.DataFrame()\n",
    "for file in files:\n",
    "    df[file] = _read_and_stack(file)\n",
    "\n",
    "# cleaning up the data\n",
    "df = df.reset_index()\n",
    "# df.loc[df['Province/State'].isnull(),'Province/State'] = df['Country/Region']\n",
    "df['Province/State'] = df['Province/State'].fillna(df['Country/Region'])\n",
    "\n",
    "# Add the mortality rate, number of new confirmed and number of new deaths\n",
    "df[\"rate\"] = (df.Deaths / df.Confirmed).fillna(0)\n",
    "df[\"New Confirmed\"] = df.groupby(['Country/Region', \"Province/State\"]).Confirmed.diff().fillna(0)\n",
    "df[\"New Deaths\"] = df.groupby(['Country/Region', \"Province/State\"]).Deaths.diff().fillna(0)\n",
    "# df.loc[df[\"Country/Region\"] == \"China\"]\n",
    "# df.head(20)"
   ]
  },
  {
   "cell_type": "markdown",
   "metadata": {},
   "source": [
    "## Export the dashboard with pivottablejs.pivot_ui"
   ]
  },
  {
   "cell_type": "code",
   "execution_count": 55,
   "metadata": {},
   "outputs": [
    {
     "data": {
      "text/html": [
       "\n",
       "        <iframe\n",
       "            width=\"100%\"\n",
       "            height=\"500\"\n",
       "            src=\"time_series_pivotchart.html\"\n",
       "            frameborder=\"0\"\n",
       "            allowfullscreen\n",
       "        ></iframe>\n",
       "        "
      ],
      "text/plain": [
       "<IPython.lib.display.IFrame at 0x1cd56989a58>"
      ]
     },
     "execution_count": 55,
     "metadata": {},
     "output_type": "execute_result"
    }
   ],
   "source": [
    "# Export the interactive table / chart\n",
    "pivot_ui(df,outfile_path=\"time_series_pivotchart.html\")"
   ]
  },
  {
   "cell_type": "markdown",
   "metadata": {},
   "source": [
    "# Rescaled dashboard to compare progression per country"
   ]
  },
  {
   "cell_type": "markdown",
   "metadata": {},
   "source": [
    "## Rescale to log scale and start when the number of confirmed cases reaches 100"
   ]
  },
  {
   "cell_type": "code",
   "execution_count": 68,
   "metadata": {},
   "outputs": [
    {
     "name": "stderr",
     "output_type": "stream",
     "text": [
      "C:\\Users\\mmenache\\AppData\\Local\\Continuum\\anaconda3\\lib\\site-packages\\ipykernel_launcher.py:4: RuntimeWarning: divide by zero encountered in log\n",
      "  after removing the cwd from sys.path.\n"
     ]
    },
    {
     "data": {
      "text/html": [
       "<div>\n",
       "<style scoped>\n",
       "    .dataframe tbody tr th:only-of-type {\n",
       "        vertical-align: middle;\n",
       "    }\n",
       "\n",
       "    .dataframe tbody tr th {\n",
       "        vertical-align: top;\n",
       "    }\n",
       "\n",
       "    .dataframe thead th {\n",
       "        text-align: right;\n",
       "    }\n",
       "</style>\n",
       "<table border=\"1\" class=\"dataframe\">\n",
       "  <thead>\n",
       "    <tr style=\"text-align: right;\">\n",
       "      <th></th>\n",
       "      <th>Confirmed</th>\n",
       "      <th>log_Confirmed</th>\n",
       "      <th>Deaths</th>\n",
       "      <th>log_Deaths</th>\n",
       "    </tr>\n",
       "    <tr>\n",
       "      <th>Date</th>\n",
       "      <th></th>\n",
       "      <th></th>\n",
       "      <th></th>\n",
       "      <th></th>\n",
       "    </tr>\n",
       "  </thead>\n",
       "  <tbody>\n",
       "    <tr>\n",
       "      <th>0</th>\n",
       "      <td>47</td>\n",
       "      <td>3.850148</td>\n",
       "      <td>1</td>\n",
       "      <td>0.000000</td>\n",
       "    </tr>\n",
       "    <tr>\n",
       "      <th>1</th>\n",
       "      <td>98</td>\n",
       "      <td>4.584967</td>\n",
       "      <td>1</td>\n",
       "      <td>0.000000</td>\n",
       "    </tr>\n",
       "    <tr>\n",
       "      <th>2</th>\n",
       "      <td>192</td>\n",
       "      <td>5.257495</td>\n",
       "      <td>3</td>\n",
       "      <td>1.098612</td>\n",
       "    </tr>\n",
       "    <tr>\n",
       "      <th>3</th>\n",
       "      <td>359</td>\n",
       "      <td>5.883322</td>\n",
       "      <td>4</td>\n",
       "      <td>1.386294</td>\n",
       "    </tr>\n",
       "    <tr>\n",
       "      <th>4</th>\n",
       "      <td>670</td>\n",
       "      <td>6.507278</td>\n",
       "      <td>9</td>\n",
       "      <td>2.197225</td>\n",
       "    </tr>\n",
       "    <tr>\n",
       "      <th>5</th>\n",
       "      <td>1236</td>\n",
       "      <td>7.119636</td>\n",
       "      <td>30</td>\n",
       "      <td>3.401197</td>\n",
       "    </tr>\n",
       "    <tr>\n",
       "      <th>6</th>\n",
       "      <td>1529</td>\n",
       "      <td>7.332369</td>\n",
       "      <td>37</td>\n",
       "      <td>3.610918</td>\n",
       "    </tr>\n",
       "    <tr>\n",
       "      <th>7</th>\n",
       "      <td>1872</td>\n",
       "      <td>7.534763</td>\n",
       "      <td>44</td>\n",
       "      <td>3.784190</td>\n",
       "    </tr>\n",
       "    <tr>\n",
       "      <th>8</th>\n",
       "      <td>2433</td>\n",
       "      <td>7.796880</td>\n",
       "      <td>59</td>\n",
       "      <td>4.077537</td>\n",
       "    </tr>\n",
       "    <tr>\n",
       "      <th>9</th>\n",
       "      <td>3629</td>\n",
       "      <td>8.196712</td>\n",
       "      <td>75</td>\n",
       "      <td>4.317488</td>\n",
       "    </tr>\n",
       "    <tr>\n",
       "      <th>10</th>\n",
       "      <td>5698</td>\n",
       "      <td>8.647871</td>\n",
       "      <td>92</td>\n",
       "      <td>4.521789</td>\n",
       "    </tr>\n",
       "  </tbody>\n",
       "</table>\n",
       "</div>"
      ],
      "text/plain": [
       "      Confirmed  log_Confirmed  Deaths  log_Deaths\n",
       "Date                                              \n",
       "0            47       3.850148       1    0.000000\n",
       "1            98       4.584967       1    0.000000\n",
       "2           192       5.257495       3    1.098612\n",
       "3           359       5.883322       4    1.386294\n",
       "4           670       6.507278       9    2.197225\n",
       "5          1236       7.119636      30    3.401197\n",
       "6          1529       7.332369      37    3.610918\n",
       "7          1872       7.534763      44    3.784190\n",
       "8          2433       7.796880      59    4.077537\n",
       "9          3629       8.196712      75    4.317488\n",
       "10         5698       8.647871      92    4.521789"
      ]
     },
     "execution_count": 68,
     "metadata": {},
     "output_type": "execute_result"
    }
   ],
   "source": [
    "df2 = df.groupby([\"Country/Region\", \"Date\"]).sum()\n",
    "df2 = df2.loc[df2.Confirmed >= 30]\n",
    "df2[\"log_Confirmed\"] = np.log(df2[\"Confirmed\"])\n",
    "df2[\"log_Deaths\"] = np.log(df2[\"Deaths\"])\n",
    "df2 = df2.replace([np.inf, -np.inf], 0)\n",
    "df2 = df2.reset_index()\n",
    "df2[\"Date\"] = df2.groupby([\"Country/Region\"]).cumcount()\n",
    "df2 = (df2\n",
    "       .set_index([\"Country/Region\", \"Date\"])\n",
    "       .loc[:, [\"Confirmed\", \"log_Confirmed\", \"Deaths\", \"log_Deaths\"]]\n",
    "      )\n",
    "# df2.loc[[\"France\", \"China\"]]\n",
    "df2.loc[\"Turkey\"]"
   ]
  },
  {
   "cell_type": "markdown",
   "metadata": {},
   "source": [
    "## Export the dashboard with pivottablejs.puivot_ii"
   ]
  },
  {
   "cell_type": "code",
   "execution_count": 69,
   "metadata": {},
   "outputs": [
    {
     "data": {
      "text/html": [
       "\n",
       "        <iframe\n",
       "            width=\"100%\"\n",
       "            height=\"500\"\n",
       "            src=\"country_comparison_rescaled.html\"\n",
       "            frameborder=\"0\"\n",
       "            allowfullscreen\n",
       "        ></iframe>\n",
       "        "
      ],
      "text/plain": [
       "<IPython.lib.display.IFrame at 0x1cd5509ad68>"
      ]
     },
     "execution_count": 69,
     "metadata": {},
     "output_type": "execute_result"
    }
   ],
   "source": [
    "# Export the interactive table / chart\n",
    "pivot_ui(df2,outfile_path=\"country_comparison_rescaled.html\")"
   ]
  },
  {
   "cell_type": "code",
   "execution_count": null,
   "metadata": {},
   "outputs": [],
   "source": []
  }
 ],
 "metadata": {
  "kernelspec": {
   "display_name": "Python 3",
   "language": "python",
   "name": "python3"
  },
  "language_info": {
   "codemirror_mode": {
    "name": "ipython",
    "version": 3
   },
   "file_extension": ".py",
   "mimetype": "text/x-python",
   "name": "python",
   "nbconvert_exporter": "python",
   "pygments_lexer": "ipython3",
   "version": "3.7.1"
  },
  "toc-autonumbering": true
 },
 "nbformat": 4,
 "nbformat_minor": 2
}
