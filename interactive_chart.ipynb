{
 "cells": [
  {
   "cell_type": "code",
   "execution_count": 30,
   "metadata": {},
   "outputs": [],
   "source": [
    "import pandas as pd\n",
    "from pivottablejs import pivot_ui\n",
    "# Pandas options\n",
    "pd.options.display.max_rows = 999\n",
    "pd.set_option('expand_frame_repr', False)\n",
    "# jupyter options\n",
    "from IPython.core.interactiveshell import InteractiveShell\n",
    "InteractiveShell.ast_node_interactivity = \"all\"\n",
    "%matplotlib inline\n"
   ]
  },
  {
   "cell_type": "code",
   "execution_count": 27,
   "metadata": {},
   "outputs": [],
   "source": [
    "def _read_and_stack(file):\n",
    "    \"\"\" Reads the data and format it in long format with .stack() with countries as index \n",
    "\n",
    "    Parameters\n",
    "    ----------\n",
    "    file: String\n",
    "        the file to import, from the COVID-19 repository on github:\n",
    "        https://github.com/CSSEGISandData/COVID-19.git\n",
    "        \n",
    "    Returns\n",
    "    -------\n",
    "    - df:\n",
    "        pandas dataframe, stacked, with coutries as index\n",
    "    \n",
    "    See Also\n",
    "    --------\n",
    "\n",
    "    Examples\n",
    "    --------\n",
    "    confirmed = _read_and_stack(\"Confirmed\")\n",
    "\n",
    "    \"\"\"\n",
    "    \n",
    "    df = (pd\n",
    "          .read_csv(rf\"csse_covid_19_data\\csse_covid_19_time_series\\time_series_19-covid-{file}.csv\")\n",
    "          .reset_index()\n",
    "          .drop([\"index\", \"Lat\", \"Long\"], axis=1)\n",
    "          .set_index(['Province/State', 'Country/Region'])\n",
    "          .stack()\n",
    "         )\n",
    "    df.index.set_names(['Province/State', 'Country/Region', \"Date\"], inplace=True)\n",
    "    \n",
    "    return df"
   ]
  },
  {
   "cell_type": "code",
   "execution_count": 28,
   "metadata": {},
   "outputs": [],
   "source": [
    "# Datframe with all the data\n",
    "files=[\"Confirmed\", \"Deaths\", \"Recovered\"]\n",
    "df = pd.DataFrame()\n",
    "for file in files:\n",
    "    df[file] = _read_and_stack(file)\n",
    "\n",
    "# cleaning up the data\n",
    "df = df.reset_index()\n",
    "# df.loc[df['Province/State'].isnull(),'Province/State'] = df['Country/Region']\n",
    "df['Province/State'] = df['Province/State'].fillna(df['Country/Region'])\n",
    "\n",
    "# Add the mortality rate, number of new confirmed and number of new deaths\n",
    "df[\"rate\"] = (df.Deaths / df.Confirmed).fillna(0)\n",
    "df[\"New Confirmed\"] = df.groupby(['Country/Region', \"Province/State\"]).Confirmed.diff().fillna(0)\n",
    "df[\"New Deaths\"] = df.groupby(['Country/Region', \"Province/State\"]).Deaths.diff().fillna(0)\n",
    "# df.loc[df[\"Country/Region\"] == \"China\"]"
   ]
  },
  {
   "cell_type": "code",
   "execution_count": 29,
   "metadata": {},
   "outputs": [
    {
     "data": {
      "text/html": [
       "\n",
       "        <iframe\n",
       "            width=\"100%\"\n",
       "            height=\"500\"\n",
       "            src=\"time_series_pivotchart.html\"\n",
       "            frameborder=\"0\"\n",
       "            allowfullscreen\n",
       "        ></iframe>\n",
       "        "
      ],
      "text/plain": [
       "<IPython.lib.display.IFrame at 0x28c974b3a58>"
      ]
     },
     "execution_count": 29,
     "metadata": {},
     "output_type": "execute_result"
    }
   ],
   "source": [
    "# Export the interactive table / chart\n",
    "pivot_ui(df,outfile_path=\"time_series_pivotchart.html\")"
   ]
  },
  {
   "cell_type": "code",
   "execution_count": null,
   "metadata": {},
   "outputs": [],
   "source": []
  }
 ],
 "metadata": {
  "kernelspec": {
   "display_name": "Python 3",
   "language": "python",
   "name": "python3"
  },
  "language_info": {
   "codemirror_mode": {
    "name": "ipython",
    "version": 3
   },
   "file_extension": ".py",
   "mimetype": "text/x-python",
   "name": "python",
   "nbconvert_exporter": "python",
   "pygments_lexer": "ipython3",
   "version": "3.7.1"
  }
 },
 "nbformat": 4,
 "nbformat_minor": 2
}
